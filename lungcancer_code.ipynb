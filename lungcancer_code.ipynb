{
 "cells": [
  {
   "cell_type": "code",
   "execution_count": 1,
   "id": "739e3022-4130-4255-bd40-4e7f937f4c2f",
   "metadata": {},
   "outputs": [
    {
     "name": "stdout",
     "output_type": "stream",
     "text": [
      "Accuracy: 0.7776910112359551\n",
      "Classification Report:\n",
      "               precision    recall  f1-score   support\n",
      "\n",
      "           0       0.78      1.00      0.87    138639\n",
      "           1       0.24      0.00      0.00     39361\n",
      "\n",
      "    accuracy                           0.78    178000\n",
      "   macro avg       0.51      0.50      0.44    178000\n",
      "weighted avg       0.66      0.78      0.68    178000\n",
      "\n"
     ]
    }
   ],
   "source": [
    "import pandas as pd\n",
    "from sklearn.model_selection import train_test_split\n",
    "from sklearn.preprocessing import LabelEncoder\n",
    "from sklearn.ensemble import RandomForestClassifier\n",
    "from sklearn.metrics import classification_report, accuracy_score\n",
    "\n",
    "# Load data\n",
    "df = pd.read_csv(\"dataset_med.csv\")\n",
    "\n",
    "# Drop non-informative columns\n",
    "df.drop(columns=['id', 'diagnosis_date', 'end_treatment_date'], inplace=True)\n",
    "\n",
    "# Handle missing values if any\n",
    "df.fillna(df.median(numeric_only=True), inplace=True)\n",
    "\n",
    "# Encode categorical features\n",
    "categorical_cols = df.select_dtypes(include='object').columns\n",
    "encoders = {}\n",
    "for col in categorical_cols:\n",
    "    enc = LabelEncoder()\n",
    "    df[col] = enc.fit_transform(df[col])\n",
    "    encoders[col] = enc  # Save encoders if needed for prediction\n",
    "\n",
    "# Split features and target\n",
    "X = df.drop(columns='survived')\n",
    "y = df['survived']\n",
    "\n",
    "# Split into train and test\n",
    "X_train, X_test, y_train, y_test = train_test_split(X, y, test_size=0.2, random_state=42)\n",
    "\n",
    "# Train classifier\n",
    "model = RandomForestClassifier(random_state=42)\n",
    "model.fit(X_train, y_train)\n",
    "\n",
    "# Predict and evaluate\n",
    "y_pred = model.predict(X_test)\n",
    "print(\"Accuracy:\", accuracy_score(y_test, y_pred))\n",
    "print(\"Classification Report:\\n\", classification_report(y_test, y_pred))\n"
   ]
  },
  {
   "cell_type": "code",
   "execution_count": 2,
   "id": "23af3cf8-02c1-420c-9d23-95f3d91f7842",
   "metadata": {},
   "outputs": [
    {
     "name": "stdout",
     "output_type": "stream",
     "text": [
      "Classification Report:\n",
      "\n",
      "              precision    recall  f1-score   support\n",
      "\n",
      "           0       0.78      1.00      0.88      1567\n",
      "           1       0.50      0.01      0.01       433\n",
      "\n",
      "    accuracy                           0.78      2000\n",
      "   macro avg       0.64      0.50      0.45      2000\n",
      "weighted avg       0.72      0.78      0.69      2000\n",
      "\n"
     ]
    }
   ],
   "source": [
    "import pandas as pd\n",
    "from sklearn.model_selection import train_test_split\n",
    "from sklearn.preprocessing import LabelEncoder\n",
    "from sklearn.ensemble import RandomForestClassifier\n",
    "from sklearn.metrics import classification_report\n",
    "from datetime import datetime\n",
    "\n",
    "# Load the dataset\n",
    "df = pd.read_csv(\"dataset_med.csv\")\n",
    "\n",
    "# Convert date columns to datetime\n",
    "df['diagnosis_date'] = pd.to_datetime(df['diagnosis_date'], errors='coerce')\n",
    "df['end_treatment_date'] = pd.to_datetime(df['end_treatment_date'], errors='coerce')\n",
    "\n",
    "# Create a new feature: treatment duration in days\n",
    "df['treatment_duration'] = (df['end_treatment_date'] - df['diagnosis_date']).dt.days\n",
    "\n",
    "# Drop irrelevant or problematic columns\n",
    "df.drop(columns=['id', 'country', 'diagnosis_date', 'end_treatment_date'], inplace=True)\n",
    "\n",
    "# Fill missing numerical values with median\n",
    "df.fillna(df.median(numeric_only=True), inplace=True)\n",
    "\n",
    "# Encode categorical features\n",
    "categorical_cols = df.select_dtypes(include='object').columns\n",
    "le = LabelEncoder()\n",
    "for col in categorical_cols:\n",
    "    df[col] = le.fit_transform(df[col].astype(str))\n",
    "\n",
    "# Features and target\n",
    "X = df.drop(columns='survived')\n",
    "y = df['survived']\n",
    "\n",
    "# Sample if dataset is too large\n",
    "if len(df) > 10000:\n",
    "    sample = df.sample(n=10000, random_state=42)\n",
    "    X = sample.drop(columns='survived')\n",
    "    y = sample['survived']\n",
    "\n",
    "# Split the data\n",
    "X_train, X_test, y_train, y_test = train_test_split(X, y, test_size=0.2, random_state=42)\n",
    "\n",
    "# Train the model\n",
    "model = RandomForestClassifier(n_estimators=100, random_state=42)\n",
    "model.fit(X_train, y_train)\n",
    "\n",
    "# Predict and evaluate\n",
    "y_pred = model.predict(X_test)\n",
    "report = classification_report(y_test, y_pred)\n",
    "\n",
    "# Output the results\n",
    "print(\"Classification Report:\\n\")\n",
    "print(report)\n"
   ]
  },
  {
   "cell_type": "code",
   "execution_count": 3,
   "id": "98be4e96-43d3-4bf7-be3a-28b3e3b88fef",
   "metadata": {},
   "outputs": [
    {
     "data": {
      "image/png": "[encoded data removed]",
      "text/plain": [
       "<Figure size 640x480 with 2 Axes>"
      ]
     },
     "metadata": {},
     "output_type": "display_data"
    }
   ],
   "source": [
    "from sklearn.metrics import confusion_matrix, ConfusionMatrixDisplay\n",
    "import matplotlib.pyplot as plt\n",
    "\n",
    "# After making predictions:\n",
    "y_pred = model.predict(X)\n",
    "\n",
    "# Compute confusion matrix\n",
    "cm = confusion_matrix(y, y_pred)\n",
    "\n",
    "# Display the confusion matrix\n",
    "disp = ConfusionMatrixDisplay(confusion_matrix=cm, display_labels=[\"Not Survived\", \"Survived\"])\n",
    "disp.plot(cmap=plt.cm.Blues)\n",
    "plt.title(\"Confusion Matrix\")\n",
    "plt.show()\n"
   ]
  },
  {
   "cell_type": "code",
   "execution_count": null,
   "id": "4b33ee3f-d41e-4738-a207-f10f97e37591",
   "metadata": {},
   "outputs": [],
   "source": []
  }
 ],
 "metadata": {
  "kernelspec": {
   "display_name": "Python 3 (ipykernel)",
   "language": "python",
   "name": "python3"
  },
  "language_info": {
   "codemirror_mode": {
    "name": "ipython",
    "version": 3
   },
   "file_extension": ".py",
   "mimetype": "text/x-python",
   "name": "python",
   "nbconvert_exporter": "python",
   "pygments_lexer": "ipython3",
   "version": "3.12.8"
  }
 },
 "nbformat": 4,
 "nbformat_minor": 5
}
